{
 "cells": [
  {
   "cell_type": "code",
   "execution_count": 15,
   "id": "339e403c",
   "metadata": {},
   "outputs": [],
   "source": [
    "from ShellHN import *"
   ]
  },
  {
   "cell_type": "code",
   "execution_count": 9,
   "id": "f6e168f9",
   "metadata": {},
   "outputs": [
    {
     "name": "stdout",
     "output_type": "stream",
     "text": [
      "Rank:1 Title:.NET 6 vs. .NET 5: up to 40% speedup\n",
      "Rank:2 Title:Advent of Code 2021\n",
      "Rank:3 Title:Upgrading the soldered-on RAM of a Dell XPS13 7390 laptop\n",
      "Rank:4 Title:Campbell's Law: The dark side of metric fixation\n",
      "Rank:5 Title:Tracking Crucial Metrics of Earth's Global Warming\n",
      "Rank:6 Title:LLVM relicensing update and call for help\n",
      "Rank:7 Title:How to programmatically find out if computer is on\n",
      "Rank:8 Title:ChaosDB Explained: Azure's Cosmos DB Vulnerability Walkthrough\n",
      "Rank:9 Title:The million-dollar drug (2018)\n",
      "Rank:10 Title:Sociotechnical Lenses into Software Systems\n",
      "Rank:11 Title:PDP-11/40 (a.k.a. 11/35) emulator for various microcontrollers\n",
      "Rank:12 Title:Bring Back Our Knobs: Analog vs. Digital (2009)\n",
      "Rank:13 Title:JEdit – Programmer's Text Editor\n",
      "Rank:14 Title:MacPaint and MacWrite First Public Demo (1984) [video]\n",
      "Rank:15 Title:What Hot Dogs Can Teach Us About Number Theory\n",
      "Rank:16 Title:Raycast (YC W20) Is Hiring macOS Engineers to Geek Out on UI (Remote in Europe)\n",
      "Rank:17 Title:Discover Slitaz, a 50MB Lightweight Desktop Operating System\n",
      "Rank:18 Title:Lagrange: A desktop GUI client for Gemini\n",
      "Rank:19 Title:Yara Birkeland, the World’s First Autonomous and Emission-Free Containership\n",
      "Rank:20 Title:Analysis of the Cosmos 1408 Breakup\n",
      "Rank:21 Title:The Deep Sea\n",
      "Rank:22 Title:An Introduction to Lagrange Multipliers\n",
      "Rank:23 Title:What it's like to ride 900 km in a day\n",
      "Rank:24 Title:HTTP Message Signatures\n",
      "Rank:25 Title:The history of Berkeley DB\n",
      "Rank:26 Title:Maxima (Software)\n",
      "Rank:27 Title:Cocoa Text System\n",
      "Rank:28 Title:Preventing Timing Attacks on String Comparison with Double HMAC Strategy (2015)\n",
      "Rank:29 Title:Oil 0.9.4 – User Feedback\n",
      "Rank:30 Title:L-Lists: Collaborative list making website\n",
      "Rank:31 Title:What every IT person needs to know about OpenBSD Part 3: That packet filter\n",
      "Rank:32 Title:The history of Flash games in China\n",
      "Rank:33 Title:Slime\n",
      "Rank:34 Title:Prospectus (1843)\n",
      "Rank:35 Title:Tools I use: PyCharm / Idea plugins\n",
      "Rank:36 Title:Facebook AI Similarity Search (Faiss)\n",
      "Rank:37 Title:Implementing Chip-8 in Jack\n",
      "Rank:38 Title:The Brain-Circuit Of Even the Simplest Networks of Neurons Defy Understanding\n",
      "Rank:39 Title:Vertiwalk Vertical Walking\n",
      "Rank:40 Title:Python – Writing large ZIP archives without memory inflation\n"
     ]
    }
   ],
   "source": [
    "get_HN_best_stories(HN_URL_TOP_STORIES_IDS, HN_URL_STORY, HN_NUM_STORIES)"
   ]
  },
  {
   "cell_type": "code",
   "execution_count": 16,
   "id": "95e4fb27",
   "metadata": {},
   "outputs": [
    {
     "name": "stdout",
     "output_type": "stream",
     "text": [
      "Correlation between hours difference from 20PM and # of comments -0.001323\n"
     ]
    },
    {
     "data": {
      "image/png": "[encoded data removed]",
      "text/plain": [
       "<Figure size 432x288 with 1 Axes>"
      ]
     },
     "metadata": {
      "needs_background": "light"
     },
     "output_type": "display_data"
    }
   ],
   "source": [
    "get_corr(HN_FILE_NAME, HN_COLUMNS)"
   ]
  },
  {
   "cell_type": "code",
   "execution_count": 13,
   "id": "6423825e",
   "metadata": {},
   "outputs": [
    {
     "name": "stdout",
     "output_type": "stream",
     "text": [
      "  0.Kubernetes\n",
      "  1.Linux\n",
      "  2.Windows\n",
      "  3.Solarwinds\n",
      "  4.Garmin\n",
      "  5.AWS\n",
      "  6.Docker\n",
      "  7.Github\n",
      "  8.Wordpress\n",
      "  9.Rundeck\n",
      "Choose a technology:6\n",
      "Docker probability true: [0.00288038]  probability prediction :[0.00295831]\n",
      "corr 0.1696804832779949\n",
      "Docker next month probability prediction :[0.00361668]\n"
     ]
    },
    {
     "data": {
      "text/plain": [
       "LinearRegression()"
      ]
     },
     "execution_count": 13,
     "metadata": {},
     "output_type": "execute_result"
    }
   ],
   "source": [
    "predict_tech_next_month(HN_FILE_NAME)"
   ]
  },
  {
   "cell_type": "code",
   "execution_count": 17,
   "id": "8b8e0a96",
   "metadata": {},
   "outputs": [
    {
     "name": "stdout",
     "output_type": "stream",
     "text": [
      "/Users/josephkeshet/Development/kvrr\r\n"
     ]
    }
   ],
   "source": [
    "! pwd"
   ]
  },
  {
   "cell_type": "code",
   "execution_count": null,
   "id": "59b91b13",
   "metadata": {},
   "outputs": [],
   "source": []
  }
 ],
 "metadata": {
  "kernelspec": {
   "display_name": "myenv",
   "language": "python",
   "name": "myenv"
  },
  "language_info": {
   "codemirror_mode": {
    "name": "ipython",
    "version": 3
   },
   "file_extension": ".py",
   "mimetype": "text/x-python",
   "name": "python",
   "nbconvert_exporter": "python",
   "pygments_lexer": "ipython3",
   "version": "3.8.7"
  }
 },
 "nbformat": 4,
 "nbformat_minor": 5
}
